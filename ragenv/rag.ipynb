{
 "cells": [
  {
   "cell_type": "code",
   "execution_count": null,
   "metadata": {
    "vscode": {
     "languageId": "plaintext"
    }
   },
   "outputs": [],
   "source": [
    "## Data Ingestion\n",
    "from langchain_community.document_loaders import PyPDFLoader, CSVLoader, TextLoader\n",
    "pdf_loader_annual = PyPDFLoader(\"SyntheticDatasetRAG/Sample Underwriter/pdf/annual-report-2023-2024.pdf\")\n",
    "pdf_documents_annual = pdf_loader_annual.load()\n",
    "pdf_documents_annual"
   ]
  },
  {
   "cell_type": "code",
   "execution_count": null,
   "metadata": {
    "vscode": {
     "languageId": "plaintext"
    }
   },
   "outputs": [],
   "source": [
    "## Transformation\n",
    "from langchain.text_spiltter import RecursiveCharacterTextSpiltter\n",
    "text_spiltter = RecursiveCharacterTextSpiltter(chunk_size=1000,chunk_overlap=100)\n",
    "pdf_text_documents = text.spiltter.split_documents(pdf_documents_annual)\n",
    "pdf_text_documents[:5]"
   ]
  },
  {
   "cell_type": "code",
   "execution_count": null,
   "metadata": {
    "vscode": {
     "languageId": "plaintext"
    }
   },
   "outputs": [],
   "source": [
    "## Vector Embedding and Vector Store\n",
    "from langchain_community.embeddings import BertEmbeddings\n",
    "from transformers import BertTokenizer, BertModel\n",
    "from langchain.vectorstores import FAISS\n",
    "from langchain.chains import RetrievalQA\n",
    "import torch\n",
    "# Initialize the BERT model and tokenizer\n",
    "model_name = \"bert-base-uncased\"\n",
    "tokenizer = BertTokenizer.from_pretrained(model_name)\n",
    "BertModel.from_pretrained(model_name)\n",
    "# Initialize BertEmbeddings from langchain_community\n",
    "bert_embeddings = BertEmbeddings(model=model,tokenizer=tokenizer)\n",
    "# Generating Embeddings\n",
    "bert_embeddings.embed([pdf_text_documents])\n",
    "# Create a FAISS vector Store\n",
    "faiss_index = FAISS.from_documents(pdf_text_documents, bert_embeddings)\n",
    "## Querying the FAISS faiss_index\n",
    "query = \"Search query text\"\n",
    "results = faiss_index.similarity_search(query, k=3) # Returns top 3 results\n",
    "print(results)\n",
    "# Save the index to a file\n",
    "faiss_index.save(\"faiss_index\")\n",
    "# Load the index from a file\n",
    "loaded_faiss_index = FAISS.load(\"faiss_index\")\n",
    "# Setup the QA system with the FAISS indes\n",
    "qa_chain = RetrievalQA.from_chain_type(llm=OpenAI(),retriever=faiss_index.as_retriever())\n",
    "# Ask a question\n",
    "query = \"Give me summary of the Annual report\"\n",
    "answer = qa_chain.run(query)\n",
    "print(answer)"
   ]
  }
 ],
 "metadata": {
  "language_info": {
   "name": "python"
  }
 },
 "nbformat": 4,
 "nbformat_minor": 2
}
